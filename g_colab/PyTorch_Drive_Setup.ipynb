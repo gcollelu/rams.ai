{
  "nbformat": 4,
  "nbformat_minor": 0,
  "metadata": {
    "colab": {
      "name": "PyTorch_Setup.ipynb",
      "version": "0.3.2",
      "provenance": []
    },
    "kernelspec": {
      "name": "python3",
      "display_name": "Python 3"
    },
    "accelerator": "GPU"
  },
  "cells": [
    {
      "metadata": {
        "id": "kWyuXB0uFj6h",
        "colab_type": "code",
        "colab": {}
      },
      "cell_type": "code",
      "source": [
        "!pip install torch"
      ],
      "execution_count": 0,
      "outputs": []
    },
    {
      "metadata": {
        "id": "UmQX2lAcF4WY",
        "colab_type": "code",
        "colab": {}
      },
      "cell_type": "code",
      "source": [
        "import torch\n",
        "print(torch.__version__)"
      ],
      "execution_count": 0,
      "outputs": []
    },
    {
      "metadata": {
        "id": "23rSPeMfGZab",
        "colab_type": "code",
        "colab": {}
      },
      "cell_type": "code",
      "source": [
        "# Authenticate the user to have access to Google Drive\n",
        "from google.colab import auth\n",
        "auth.authenticate_user()"
      ],
      "execution_count": 0,
      "outputs": []
    },
    {
      "metadata": {
        "id": "E0Z3lFf6G5mm",
        "colab_type": "code",
        "colab": {}
      },
      "cell_type": "code",
      "source": [
        "from google.colab import drive\n",
        "drive.mount(\"/content/drive\")\n",
        "\n",
        "# For testing\n",
        "# print('Files in Drive:')\n",
        "# !ls /content/drive/'My Drive'"
      ],
      "execution_count": 0,
      "outputs": []
    },
    {
      "metadata": {
        "id": "y3zH5xweHxrJ",
        "colab_type": "code",
        "colab": {
          "base_uri": "https://localhost:8080/",
          "height": 561
        },
        "outputId": "90cede85-f069-4d9f-ab40-3b8217850630"
      },
      "cell_type": "code",
      "source": [
        "import json\n",
        "\n",
        "with open('/content/drive/My Drive/recipes.json') as recipes_file:\n",
        "    recipes = json.load(recipes_file)\n",
        "\n",
        "print(json.dumps(recipes[127835], indent=2))"
      ],
      "execution_count": 14,
      "outputs": [
        {
          "output_type": "stream",
          "text": [
            "{\n",
            "  \"id\": 127845,\n",
            "  \"title\": \"Smucker's\\u00ae Apple Raspberry Juice\",\n",
            "  \"ingredients\": [\n",
            "    {\n",
            "      \"amount\": \"1/2\",\n",
            "      \"unit\": \"cup\",\n",
            "      \"name\": \"SMUCKER'S\\u00ae Seedless Red Raspberry Jam\"\n",
            "    },\n",
            "    {\n",
            "      \"amount\": \"4\",\n",
            "      \"unit\": \"cup\",\n",
            "      \"name\": \"apple juice\"\n",
            "    },\n",
            "    {\n",
            "      \"amount\": \"2\",\n",
            "      \"unit\": \"teaspoon\",\n",
            "      \"name\": \"lemon juice\"\n",
            "    }\n",
            "  ],\n",
            "  \"steps\": [\n",
            "    {\n",
            "      \"idx\": 1,\n",
            "      \"content\": \"Gradually add apple juice to Smucker's jam while stirring with a wire whisk; mix well.\"\n",
            "    },\n",
            "    {\n",
            "      \"idx\": 2,\n",
            "      \"content\": \"Stir in lemon juice.\"\n",
            "    }\n",
            "  ],\n",
            "  \"rating\": 3.75\n",
            "}\n"
          ],
          "name": "stdout"
        }
      ]
    }
  ]
}